{
 "cells": [
  {
   "cell_type": "markdown",
   "id": "0bce891c-c874-4579-bdf2-e464836949d2",
   "metadata": {},
   "source": [
    "# Program for Landmarking\n",
    "\n",
    "# Data loading and Settings"
   ]
  },
  {
   "cell_type": "code",
   "execution_count": 1,
   "id": "ae56c52e-d022-4aac-8898-6ac74e8ada93",
   "metadata": {},
   "outputs": [],
   "source": [
    "import numpy as np\n",
    "import pandas as pd\n",
    "import seaborn as sns\n",
    "from matplotlib import pyplot as plt\n",
    "from sklearn.model_selection import GroupShuffleSplit\n",
    "\n",
    "from sksurv.util import Surv\n",
    "from sksurv.metrics import concordance_index_ipcw, concordance_index_censored\n",
    "from lifelines import KaplanMeierFitter\n",
    "\n",
    "# models \n",
    "from lifelines import CoxPHFitter\n",
    "from sklearn.linear_model import LogisticRegression\n",
    "from sklearn.ensemble import RandomForestClassifier, GradientBoostingClassifier\n",
    "from sklearn.neighbors import KNeighborsClassifier\n",
    "from sklearn.linear_model import RidgeClassifier\n",
    "\n",
    "# others\n",
    "from numpy import inf\n",
    "from random import sample\n",
    "from collections import Counter\n",
    "from sklearn.model_selection import KFold\n",
    "import itertools"
   ]
  },
  {
   "cell_type": "code",
   "execution_count": 2,
   "id": "c6fe868c-6fd0-418a-935d-edc34cf900db",
   "metadata": {},
   "outputs": [],
   "source": [
    "# ENS SURV module\n",
    "from ens_surv.utils import *\n",
    "from ens_surv.boot_kfold import boot_kfold"
   ]
  },
  {
   "cell_type": "code",
   "execution_count": 3,
   "id": "f097b753-4339-4048-98e4-d9f117b65cd6",
   "metadata": {},
   "outputs": [],
   "source": [
    "####################################################################################################################################\n",
    "# loading data & preprop\n",
    "\n",
    "# settings \n",
    "dir = \"/Users/pio/Google 드라이브/data/\"\n",
    "file_name = \"pbc2.csv\"\n",
    "data = pd.read_csv(dir + file_name)\n",
    "\n",
    "# drop status1 - competing risks setting\n",
    "data = data.drop(axis=1, columns =['status'])\n",
    "\n",
    "\n",
    "# ID, Time, Event, Measure Time column names\n",
    "ID_col = 'id'; T_col ='years'; E_col ='status2'; measure_T_col = 'year'\n",
    "\n",
    "# categorical variables\n",
    "nominal_col = ['drug','sex', 'ascites', 'hepatomegaly','spiders', 'edema']\n",
    "ordinal_col = ['histologic']\n",
    "\n",
    "# continuous variables\n",
    "cont_col = list(set(data.columns) - set(nominal_col) - set(ordinal_col) - set([ID_col, T_col, E_col, measure_T_col]))\n",
    "\n",
    "# window - 5 year prediction \n",
    "window = 5\n",
    "\n",
    "# S : landmark time points - 0, 0.5, 1, ..., 10\n",
    "S = np.linspace(0,10,21)\n",
    "v_years = S+window\n",
    "\n",
    "# Number of bins when discritizing \n",
    "## !!!(Actually, k_bin - 1 bins are produced)!!!\n",
    "k_bin = 5\n",
    "\n",
    "# minimal bin_size\n",
    "minimal_bin_size = window / (k_bin-1)\n",
    "# t_grid -> minimal points where survival probabilities are measured\n",
    "# t_grid = np.arange(0,S[-1] + window + minimal_bin_size, step = minimal_bin_size)\n",
    "\n",
    "# imputation -> fill na's : median for continous\n",
    "for col in cont_col : \n",
    "    data[col] = data[col].fillna(data[col].median())\n",
    "\n",
    "\n",
    "# one-hot encoding for categorical variables\n",
    "data = pd.get_dummies(data, columns = nominal_col, drop_first=True)\n",
    "\n",
    "\n",
    "####################################################################################################################################\n",
    "# settings2\n",
    "\n",
    "# proportion of train set\n",
    "p_train = 0.7\n"
   ]
  },
  {
   "cell_type": "markdown",
   "id": "e534d4d9-138e-4779-b903-3b14a0061851",
   "metadata": {},
   "source": [
    "# Train-test split"
   ]
  },
  {
   "cell_type": "code",
   "execution_count": 4,
   "id": "9eece761-218c-45bf-a40c-13251bd8f782",
   "metadata": {},
   "outputs": [
    {
     "name": "stdout",
     "output_type": "stream",
     "text": [
      "(1363, 20)\n",
      "(582, 20)\n",
      "Intersection :  set()\n"
     ]
    }
   ],
   "source": [
    "train, test = splitID(data = data,ID_col = ID_col, p = p_train)\n",
    "print(train.shape)\n",
    "print(test.shape)\n",
    "\n",
    "print('Intersection : ', set(np.unique(train[ID_col])).intersection(set(np.unique(test[ID_col]))))\n",
    "\n"
   ]
  },
  {
   "cell_type": "code",
   "execution_count": 5,
   "id": "25593a12-e4a3-4d96-adc1-2b1355d85319",
   "metadata": {},
   "outputs": [],
   "source": [
    "train_lm1 = LM_transformer(df=train,ID_col = ID_col,T_col=T_col,E_col=E_col,window=window,S=S,measure_T_col=measure_T_col)\n",
    "test_lm1 = LM_transformer(df=test,ID_col = ID_col,T_col=T_col,E_col=E_col,window=window,S=S,measure_T_col=measure_T_col)\n",
    "\n",
    "train_lm2_train_ver = LM_transformer2(df=train_lm1,ID_col = ID_col,T_col=T_col,E_col=E_col,window=window,S=S,measure_T_col=measure_T_col,k_bin = k_bin, train=True)\n",
    "train_lm2_validation_ver = LM_transformer2(df=train_lm1,ID_col = ID_col,T_col=T_col,E_col=E_col,window=window,S=S,measure_T_col=measure_T_col,k_bin = k_bin, train=False)\n",
    "\n",
    "test_lm2 = LM_transformer2(df=test_lm1,ID_col = ID_col,T_col=T_col,E_col=E_col,window=window,S=S,measure_T_col=measure_T_col,k_bin = k_bin, train=False)"
   ]
  },
  {
   "cell_type": "code",
   "execution_count": 6,
   "id": "a92048e4-cae3-48e9-9078-b1072817953c",
   "metadata": {},
   "outputs": [
    {
     "name": "stdout",
     "output_type": "stream",
     "text": [
      "(1363, 20)\n",
      "(582, 20)\n",
      "(2803, 21)\n",
      "(1169, 21)\n",
      "(8459, 21)\n",
      "(11212, 21)\n",
      "(4676, 21)\n"
     ]
    }
   ],
   "source": [
    "print(train.shape)\n",
    "print(test.shape)\n",
    "\n",
    "print(train_lm1.shape)\n",
    "print(test_lm1.shape)\n",
    "\n",
    "print(train_lm2_train_ver.shape)\n",
    "print(train_lm2_validation_ver.shape)\n",
    "\n",
    "print(test_lm2.shape)"
   ]
  },
  {
   "cell_type": "markdown",
   "id": "59bdafc7-d46c-4e58-9b3d-46aa04de6da9",
   "metadata": {},
   "source": [
    "---"
   ]
  },
  {
   "cell_type": "code",
   "execution_count": 7,
   "id": "9df9d434-08ea-4eb0-a5bb-757555e57b57",
   "metadata": {},
   "outputs": [],
   "source": [
    "# setting : \n",
    "\n",
    "# B : number of resampling / K : number of folds / boot : replacement true false\n",
    "B = 3; K = 5; boot = True\n",
    "\n",
    "\n",
    "base_info = {'ID_col':ID_col, 'T_col':T_col, 'E_col':E_col, 'measure_T_col':measure_T_col, 'boot':boot, 'B':B, 'K':K, \n",
    "            'window':window , 'S' :S, 'k_bin':k_bin}\n",
    "\n",
    "# df list : in order of original, landmark 1, landmark 2(disc) train version, landmark 2(disc) validation ver \n",
    "train_df_list = [train, train_lm1, train_lm2_train_ver, train_lm2_validation_ver]\n",
    "test_df_list = [test, test_lm1, test_lm2]\n",
    "\n",
    "# model specifics : model name & model instance & hyperparameter grid & type of model\n",
    "## type of model : cont(continous) or disc(discrete)\n",
    "\n",
    "## model specifics of level 1 models\n",
    "cox1_params = {'penalizer':[0,0.5],'l1_ratio':[0,1]}\n",
    "\n",
    "model_specifics_cont = pd.DataFrame({'model_name' : ['cox1'], \n",
    "                                'model_instance':[CoxPHFitter()], \n",
    "                                'hyperparams':[cox1_params], \n",
    "                                'type':['cont']})\n",
    "\n",
    "LR_params = {'C':[0.05,  10]}\n",
    "RF_params = {'n_estimators':[10,50,100],'max_depth':[1,5]}\n",
    "GB_params = {'n_estimators':[10,50,100],'max_depth':[1,5]}\n",
    "\n",
    "model_specifics_disc = pd.DataFrame({'model_name' : ['LR','RF','GB'], \n",
    "                                'model_instance':[LogisticRegression(max_iter=10000),RandomForestClassifier(),GradientBoostingClassifier()], \n",
    "                                'hyperparams':[LR_params, RF_params, GB_params], \n",
    "                                'type':['disc','disc','disc']})\n",
    "\n",
    "\n",
    "model_specifics_1 = pd.concat([model_specifics_cont,model_specifics_disc],axis=0).reset_index(drop=True)\n",
    "\n",
    "## model specifics of level 2 models\n",
    "model_specifics_2 = pd.DataFrame({'model_name':['M1'], \n",
    "                                  'model_instance':[LogisticRegression(max_iter=10000)],\n",
    "                                  'hyperparams':[{'C':[0.05, 10]}],\n",
    "                                 })\n",
    "\n"
   ]
  },
  {
   "cell_type": "code",
   "execution_count": null,
   "id": "c41691ba-e71c-4701-955a-2d5bfc014393",
   "metadata": {
    "tags": []
   },
   "outputs": [
    {
     "name": "stdout",
     "output_type": "stream",
     "text": [
      "######################################################################\n",
      "1 / 3  Resampled\n",
      "1 / 5  fold\n",
      "$$$\n",
      "Iteration :  1\n",
      "cox1\n",
      "LR\n",
      "RF\n",
      "GB\n",
      "2 / 5  fold\n",
      "$$$\n",
      "Iteration :  2\n",
      "cox1\n",
      "LR\n",
      "RF\n",
      "GB\n",
      "3 / 5  fold\n",
      "$$$\n",
      "Iteration :  3\n",
      "cox1\n",
      "LR\n",
      "RF\n",
      "GB\n",
      "4 / 5  fold\n",
      "$$$\n",
      "Iteration :  4\n",
      "cox1\n",
      "LR\n",
      "RF\n",
      "GB\n",
      "5 / 5  fold\n",
      "$$$\n",
      "Iteration :  5\n",
      "cox1\n",
      "LR\n",
      "RF\n",
      "GB\n",
      "######################################################################\n",
      "2 / 3  Resampled\n",
      "1 / 5  fold\n",
      "$$$\n",
      "Iteration :  1\n",
      "cox1\n",
      "LR\n",
      "RF\n",
      "GB\n",
      "2 / 5  fold\n",
      "$$$\n",
      "Iteration :  2\n",
      "cox1\n",
      "LR\n",
      "RF\n",
      "GB\n",
      "3 / 5  fold\n",
      "$$$\n",
      "Iteration :  3\n",
      "cox1\n",
      "LR\n",
      "RF\n",
      "GB\n",
      "4 / 5  fold\n",
      "$$$\n",
      "Iteration :  4\n",
      "cox1\n",
      "LR\n",
      "RF\n",
      "GB\n",
      "5 / 5  fold\n",
      "$$$\n",
      "Iteration :  5\n",
      "cox1\n",
      "LR\n",
      "RF\n",
      "GB\n",
      "######################################################################\n",
      "3 / 3  Resampled\n",
      "1 / 5  fold\n",
      "$$$\n",
      "Iteration :  1\n",
      "cox1\n",
      "LR\n",
      "RF\n",
      "GB\n",
      "2 / 5  fold\n",
      "$$$\n",
      "Iteration :  2\n",
      "cox1\n",
      "LR\n",
      "RF\n",
      "GB\n",
      "3 / 5  fold\n",
      "$$$\n",
      "Iteration :  3\n",
      "cox1\n",
      "LR\n",
      "RF\n",
      "GB\n",
      "4 / 5  fold\n",
      "$$$\n",
      "Iteration :  4\n",
      "cox1\n",
      "LR\n",
      "RF\n",
      "GB\n"
     ]
    }
   ],
   "source": [
    "bk1 = boot_kfold(base_info = base_info, \n",
    "           train_df_list = train_df_list, \n",
    "           test_df_list = test_df_list,\n",
    "           model_specifics_1 = model_specifics_1, \n",
    "           model_specifics_2 = model_specifics_2)\n",
    "           \n",
    "\n",
    "bk1.boot_stack()"
   ]
  },
  {
   "cell_type": "code",
   "execution_count": null,
   "id": "46e0071a-2e34-4e1d-87c4-be0fb5455c8f",
   "metadata": {},
   "outputs": [],
   "source": [
    "bk1.supersets[0].shape"
   ]
  },
  {
   "cell_type": "code",
   "execution_count": null,
   "id": "c5880dc2-7181-4160-9e33-bb33901fa902",
   "metadata": {},
   "outputs": [],
   "source": [
    "np.array(bk1.weights[0]).shape"
   ]
  },
  {
   "cell_type": "code",
   "execution_count": null,
   "id": "9807fb56-1837-4849-97e9-5a105e4a7963",
   "metadata": {},
   "outputs": [],
   "source": []
  },
  {
   "cell_type": "code",
   "execution_count": null,
   "id": "6f3a98b0-e1b8-4fc0-a994-89fe3aa52620",
   "metadata": {},
   "outputs": [],
   "source": []
  },
  {
   "cell_type": "code",
   "execution_count": null,
   "id": "6f218a95-daf7-4255-aee1-66888fe35e7d",
   "metadata": {},
   "outputs": [],
   "source": []
  },
  {
   "cell_type": "code",
   "execution_count": null,
   "id": "1ba589a1-ef5a-4829-986e-b1e42034c630",
   "metadata": {},
   "outputs": [],
   "source": []
  },
  {
   "cell_type": "code",
   "execution_count": null,
   "id": "699b2fc5-ed7d-4d87-8d8d-a1bb6fc57fa9",
   "metadata": {},
   "outputs": [],
   "source": []
  },
  {
   "cell_type": "code",
   "execution_count": null,
   "id": "617e7537-e703-40df-a805-8b8d61ddf3d7",
   "metadata": {},
   "outputs": [],
   "source": []
  },
  {
   "cell_type": "code",
   "execution_count": null,
   "id": "8c04b8ed-aad0-4547-a3c5-fe04a7f03126",
   "metadata": {},
   "outputs": [],
   "source": []
  },
  {
   "cell_type": "code",
   "execution_count": null,
   "id": "e1f84407-34e2-422c-964e-2896689a1616",
   "metadata": {},
   "outputs": [],
   "source": []
  },
  {
   "cell_type": "code",
   "execution_count": null,
   "id": "ca36f930-a55c-4ce0-b3da-b5d7f5601148",
   "metadata": {},
   "outputs": [],
   "source": []
  },
  {
   "cell_type": "markdown",
   "id": "f761cf8e-7707-453d-99fc-5f510d32d2a9",
   "metadata": {},
   "source": [
    "---"
   ]
  },
  {
   "cell_type": "markdown",
   "id": "c2dd3998-c5fc-4036-82b2-743fbef12f4b",
   "metadata": {},
   "source": [
    "# stacking procedure\n",
    "\n"
   ]
  },
  {
   "cell_type": "code",
   "execution_count": null,
   "id": "1fd982ec-6e8d-49b0-bd90-ee70ed8e2adf",
   "metadata": {},
   "outputs": [],
   "source": [
    "np.array(bk1_stack[0])[0].shape"
   ]
  },
  {
   "cell_type": "code",
   "execution_count": null,
   "id": "359371b4-919b-4877-b8cf-e27b8198808a",
   "metadata": {},
   "outputs": [],
   "source": [
    "model_specifics_cont"
   ]
  },
  {
   "cell_type": "code",
   "execution_count": null,
   "id": "f96dbdcd-8208-4042-868b-35f5db667764",
   "metadata": {},
   "outputs": [],
   "source": [
    "model_specifics_disc"
   ]
  },
  {
   "cell_type": "code",
   "execution_count": null,
   "id": "32b9084c-6e56-460a-a994-9954be1bc7eb",
   "metadata": {},
   "outputs": [],
   "source": [
    "model_specifics_1"
   ]
  },
  {
   "cell_type": "code",
   "execution_count": null,
   "id": "d5ae28f3-4740-487c-9211-4d4f48f42976",
   "metadata": {},
   "outputs": [],
   "source": [
    "bk1.supersets"
   ]
  },
  {
   "cell_type": "code",
   "execution_count": null,
   "id": "5ec67aa6-2369-457f-aeed-c894b1561f49",
   "metadata": {},
   "outputs": [],
   "source": []
  },
  {
   "cell_type": "code",
   "execution_count": null,
   "id": "fa4c9102-0914-4d7a-96f9-b5c5aa489e7d",
   "metadata": {},
   "outputs": [],
   "source": []
  },
  {
   "cell_type": "code",
   "execution_count": null,
   "id": "886d2cdd-a75f-4399-aab3-1508954fc1ec",
   "metadata": {},
   "outputs": [],
   "source": []
  },
  {
   "cell_type": "code",
   "execution_count": null,
   "id": "e00b1900-a760-4db4-9b68-366cc41fdbf4",
   "metadata": {},
   "outputs": [],
   "source": []
  },
  {
   "cell_type": "code",
   "execution_count": null,
   "id": "8a736db5-38fb-4f6d-99e2-46be68701c4c",
   "metadata": {},
   "outputs": [],
   "source": []
  },
  {
   "cell_type": "markdown",
   "id": "35ea6616-2a8d-4582-95fb-87caf0cba512",
   "metadata": {},
   "source": [
    "# ---------------------------------"
   ]
  },
  {
   "cell_type": "markdown",
   "id": "f87bbc1f-ade7-4bfb-af33-0fee1c7fdd33",
   "metadata": {},
   "source": [
    "# Plan of action \n",
    "\n",
    "## Models with K-folds and no bagging : No bootstrapping / K-fold(super set)\n",
    "- M1 : non-negative weighted linear regression \n",
    "- M2 : logistic regression with binary cross entropy loss\n",
    "- M3 : Ensemble selection(with replacement) a.k.a hill climbing\n",
    "- M4 : Another 2nd level models such as Lasso, RF, GB... \n",
    "\n",
    "## Models with k-folds and bagging : return averaged survival estimates from B bagged 2nd level models\n",
    "\n",
    "- M1' : M1 + bagging\n",
    "- M2' : M2 + bagging \n",
    "- M3' : M3 + bagging\n",
    "- M4' : M4 + bagging\n",
    "\n",
    "## Models with k-folds and bagging + different methods\n",
    "\n",
    "- M5(PROPOSE) : Ensemble Selection(with replacement) + stepwise Bagging\n",
    "    - M3' + Stepwise selection\n",
    "    - For every b, b = 1, 2, 3, ... , B, super set is obtained thru k-folds\n",
    "    - And Ensemble \"STEPWISE\" Selection on super set\n",
    "    - Stopping when score in oob samples are converged.\n",
    "    - 장점 : overfitting 여부 예측 가능. When to stop?에 대한 해결책 제공\n",
    "    \n",
    "## Models with Gate controll\n",
    "- M6(PROPOSE) : Gate control fusion \n",
    "\n"
   ]
  },
  {
   "cell_type": "code",
   "execution_count": null,
   "id": "ccf8c47c-6657-4c8c-839c-c556a6e6927a",
   "metadata": {},
   "outputs": [],
   "source": [
    "def splitID(data = data, ID = ID_col, p = p_train) :\n",
    "    # Unique ID names\n",
    "    unique_ids = np.unique(data[ID_col])\n",
    "\n",
    "    # Number of samples within each train and test set\n",
    "    n_train = round(len(unique_ids)*0.7)\n",
    "    n_test = len(unique_ids) - n_train\n",
    "    \n",
    "    # IDs within train set and test set\n",
    "    train_ids = list(sample(set(unique_ids), n_train))\n",
    "    test_ids = list(set(unique_ids).difference(set(train_ids)))\n",
    "\n",
    "    # Row-wise masking for train and test set\n",
    "    mask_train = data[ID_col].isin(train_ids)\n",
    "    mask_test = data[ID_col].isin(test_ids)\n",
    "\n",
    "    # final train and test sets\n",
    "    data_train = data[mask_train].reset_index(drop=True)\n",
    "    data_test = data[mask_test].reset_index(drop=True)\n",
    "    \n",
    "    return data_train, data_test\n",
    "\n",
    "    "
   ]
  },
  {
   "cell_type": "code",
   "execution_count": null,
   "id": "3b8bb57c-e38f-4abb-9672-3dc30738d6cc",
   "metadata": {},
   "outputs": [],
   "source": [
    "train, test = splitID(data = data, ID = ID_col, p = p_train)\n",
    "print(train.shape)\n",
    "print(test.shape)\n",
    "\n",
    "print('Intersection : ', set(np.unique(train[ID_col])).intersection(set(np.unique(test[ID_col]))))"
   ]
  },
  {
   "cell_type": "code",
   "execution_count": null,
   "id": "c23cfe53-7f42-4202-acbd-a8634a797300",
   "metadata": {
    "tags": []
   },
   "outputs": [],
   "source": [
    "train, test = splitID(data = data, ID = ID_col, p = p_train)\n",
    "print(train.shape)\n",
    "print(test.shape)\n",
    "\n",
    "print('Intersection : ', set(np.unique(train[ID_col])).intersection(set(np.unique(test[ID_col]))))\n",
    "\n",
    "train_lm1 = LM_transformer(df=train)\n",
    "test_lm1 = LM_transformer(df=test)\n",
    "\n",
    "# \n",
    "train_lm2_train_ver = LM_transformer2(df=train_lm1,train=True)\n",
    "train_lm2_validation_ver = LM_transformer2(df=train_lm1,train=False)\n",
    "\n",
    "test_lm2 = LM_transformer2(df=test_lm1,train=False)"
   ]
  },
  {
   "cell_type": "markdown",
   "id": "394ac08b-75fd-44de-b611-17116b77fe84",
   "metadata": {},
   "source": [
    "# Models with K-folds and no bagging : No bootstrapping / K-fold(super set)\n",
    "- M1 : non-negative weighted linear regression \n",
    "- M2 : logistic regression with binary cross entropy loss\n",
    "- M3 : Ensemble selection(with replacement) a.k.a hill climbing\n",
    "- M4 : Another 2nd level models such as Lasso, RF, GB... \n",
    "\n"
   ]
  },
  {
   "cell_type": "code",
   "execution_count": null,
   "id": "1804052d-f0cb-4ddf-bebb-8ced4ff5feb1",
   "metadata": {},
   "outputs": [],
   "source": []
  },
  {
   "cell_type": "code",
   "execution_count": null,
   "id": "7141ae3a-9141-4682-b0bb-02f15d2bea5d",
   "metadata": {},
   "outputs": [],
   "source": []
  },
  {
   "cell_type": "code",
   "execution_count": null,
   "id": "e5fd11b2-0a84-4a3b-b85a-02ab37bef9fb",
   "metadata": {},
   "outputs": [],
   "source": []
  },
  {
   "cell_type": "code",
   "execution_count": null,
   "id": "6fc0bcc7-0545-4d98-99c5-97bde02b33a1",
   "metadata": {
    "tags": []
   },
   "outputs": [],
   "source": []
  },
  {
   "cell_type": "code",
   "execution_count": null,
   "id": "18e05eef-ac98-45ab-a738-48527eaf1b7d",
   "metadata": {},
   "outputs": [],
   "source": [
    "BOOTSTRAP_STACKS_1"
   ]
  },
  {
   "cell_type": "markdown",
   "id": "3274d6f1-717b-4a0d-992e-713936bb30bc",
   "metadata": {},
   "source": [
    "## M1 : non-negative weighted linear regression"
   ]
  },
  {
   "cell_type": "code",
   "execution_count": null,
   "id": "8f6fbedd-5389-4960-8f07-6c8f994617ae",
   "metadata": {},
   "outputs": [],
   "source": []
  },
  {
   "cell_type": "markdown",
   "id": "641b158c-92a1-4da9-bcb4-cddce4da24e0",
   "metadata": {},
   "source": [
    "## M2 : logistic regression with binary cross entropy loss\n"
   ]
  },
  {
   "cell_type": "code",
   "execution_count": null,
   "id": "4725aa0c-469f-44ef-aff7-c6635ceb4498",
   "metadata": {},
   "outputs": [],
   "source": []
  },
  {
   "cell_type": "markdown",
   "id": "9919ef48-3757-4c9b-b555-5ba0010a19aa",
   "metadata": {},
   "source": [
    "## M3 : Ensemble selection(with replacement) a.k.a hill climbing"
   ]
  },
  {
   "cell_type": "code",
   "execution_count": null,
   "id": "daea6dc5-3b95-4cc7-9451-634fd1647fb7",
   "metadata": {},
   "outputs": [],
   "source": []
  },
  {
   "cell_type": "markdown",
   "id": "271594b8-33b8-48b9-88d6-4c305168029a",
   "metadata": {},
   "source": [
    "## M4 : Another 2nd level models such as Lasso, RF, GB..."
   ]
  },
  {
   "cell_type": "code",
   "execution_count": null,
   "id": "3eb9db52-b655-4e9f-9b9d-ce0305d28695",
   "metadata": {},
   "outputs": [],
   "source": []
  },
  {
   "cell_type": "code",
   "execution_count": null,
   "id": "a5b2d97e-4e5e-4f15-8278-26e16eca2265",
   "metadata": {},
   "outputs": [],
   "source": []
  },
  {
   "cell_type": "code",
   "execution_count": null,
   "id": "010f6517-c0ed-4fa3-96e5-4c25942be3cb",
   "metadata": {},
   "outputs": [],
   "source": []
  },
  {
   "cell_type": "code",
   "execution_count": null,
   "id": "86650e74-3edb-48c9-ae64-8812cd4068cf",
   "metadata": {},
   "outputs": [],
   "source": []
  }
 ],
 "metadata": {
  "kernelspec": {
   "display_name": "Python 3",
   "language": "python",
   "name": "python3"
  },
  "language_info": {
   "codemirror_mode": {
    "name": "ipython",
    "version": 3
   },
   "file_extension": ".py",
   "mimetype": "text/x-python",
   "name": "python",
   "nbconvert_exporter": "python",
   "pygments_lexer": "ipython3",
   "version": "3.6.13"
  },
  "toc-autonumbering": false,
  "toc-showcode": false,
  "toc-showmarkdowntxt": false,
  "toc-showtags": false
 },
 "nbformat": 4,
 "nbformat_minor": 5
}
