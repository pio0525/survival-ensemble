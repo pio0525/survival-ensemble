{
 "cells": [
  {
   "cell_type": "code",
   "execution_count": 1,
   "id": "3950a501-0923-45f9-a7d2-f9a43808b8fa",
   "metadata": {},
   "outputs": [],
   "source": [
    "from landmark_ensemble.functions import * \n",
    "import dill\n",
    "from datetime import datetime"
   ]
  },
  {
   "cell_type": "code",
   "execution_count": 2,
   "id": "dafd181c-54c9-4160-8a28-8984099ca6b9",
   "metadata": {},
   "outputs": [],
   "source": [
    "####################################################################################################################################\n",
    "\n",
    "# settings \n",
    "dir = \"/Users/pio/Google 드라이브/data/\"\n",
    "file_name = \"pbc2.csv\"\n",
    "data = pd.read_csv(dir + file_name)\n",
    "\n",
    "# drop status1 - competing risks setting\n",
    "data = data.drop(axis=1, columns =['status'])\n",
    "\n",
    "\n",
    "# ID, Time, Event, Measure Time column names\n",
    "ID_col = 'id'; T_col ='years'; E_col ='status2'; measure_T_col = 'year'\n",
    "\n",
    "# categorical variables\n",
    "nominal_col = ['drug','sex', 'ascites', 'hepatomegaly','spiders', 'edema']\n",
    "ordinal_col = ['histologic']\n",
    "\n",
    "# continuous variables\n",
    "cont_col = list(set(data.columns) - set(nominal_col) - set(ordinal_col) - set([ID_col, T_col, E_col, measure_T_col]))\n",
    "\n",
    "# window - 5 year prediction \n",
    "window = 5\n",
    "\n",
    "# S : landmark time points - 0, 0.5, 1, ..., 10\n",
    "S = np.linspace(0,10,21)\n",
    "v_years = S+window\n",
    "\n",
    "# Number of bins when discritizing \n",
    "## !!!(Actually, k_bin - 1 bins are produced)!!!\n",
    "k_bin = 5\n",
    "\n",
    "# minimal bin_size\n",
    "minimal_bin_size = window / (k_bin-1)\n",
    "\n",
    "# \n",
    "\n",
    "# for continous variables, \n",
    "## scaling -> min-max scaling &\n",
    "## imputation -> fill na's : median for continous\n",
    "for col in cont_col : \n",
    "    data[col] = data[col].fillna(data[col].median())\n",
    "    data[col] = (data[col] - min(data[col])) / (max(data[col]) - min(data[col]))\n",
    "\n",
    "# one-hot encoding for categorical variables\n",
    "data = pd.get_dummies(data, columns = nominal_col, drop_first=True)\n",
    "\n",
    "\n",
    "####################################################################################################################################\n",
    "# settings2\n",
    "\n",
    "# proportion of train set\n",
    "p_train = 0.7\n",
    "\n",
    "# number of bagging\n",
    "n_bagging = 30"
   ]
  },
  {
   "cell_type": "code",
   "execution_count": 3,
   "id": "cd3bfdd0-00bd-47d7-8abc-8a8c0ee13af8",
   "metadata": {
    "tags": []
   },
   "outputs": [
    {
     "data": {
      "text/html": [
       "<div>\n",
       "<style scoped>\n",
       "    .dataframe tbody tr th:only-of-type {\n",
       "        vertical-align: middle;\n",
       "    }\n",
       "\n",
       "    .dataframe tbody tr th {\n",
       "        vertical-align: top;\n",
       "    }\n",
       "\n",
       "    .dataframe thead th {\n",
       "        text-align: right;\n",
       "    }\n",
       "</style>\n",
       "<table border=\"1\" class=\"dataframe\">\n",
       "  <thead>\n",
       "    <tr style=\"text-align: right;\">\n",
       "      <th></th>\n",
       "      <th>model_name</th>\n",
       "      <th>model_instance</th>\n",
       "      <th>hyperparams</th>\n",
       "      <th>type</th>\n",
       "    </tr>\n",
       "  </thead>\n",
       "  <tbody>\n",
       "    <tr>\n",
       "      <th>0</th>\n",
       "      <td>cox_str</td>\n",
       "      <td>&lt;lifelines.CoxPHFitter&gt;</td>\n",
       "      <td>{'penalizer': [0.006737946999085467, 0.0301973...</td>\n",
       "      <td>cox_str</td>\n",
       "    </tr>\n",
       "    <tr>\n",
       "      <th>1</th>\n",
       "      <td>cox_no_str</td>\n",
       "      <td>&lt;lifelines.CoxPHFitter&gt;</td>\n",
       "      <td>{'penalizer': [0.006737946999085467, 0.0301973...</td>\n",
       "      <td>cox_no_str</td>\n",
       "    </tr>\n",
       "    <tr>\n",
       "      <th>2</th>\n",
       "      <td>LR</td>\n",
       "      <td>LogisticRegression(max_iter=10000)</td>\n",
       "      <td>{'C': [0.001, 0.01, 0.1, 1, 10, 100, 1000], 'p...</td>\n",
       "      <td>lr</td>\n",
       "    </tr>\n",
       "    <tr>\n",
       "      <th>3</th>\n",
       "      <td>RF</td>\n",
       "      <td>RandomForestClassifier()</td>\n",
       "      <td>{'n_estimators': [50, 100, 300, 500], 'max_dep...</td>\n",
       "      <td>rf</td>\n",
       "    </tr>\n",
       "    <tr>\n",
       "      <th>4</th>\n",
       "      <td>GB</td>\n",
       "      <td>GradientBoostingClassifier()</td>\n",
       "      <td>{'n_estimators': [50, 100, 300, 500], 'max_dep...</td>\n",
       "      <td>gb</td>\n",
       "    </tr>\n",
       "    <tr>\n",
       "      <th>5</th>\n",
       "      <td>MLP</td>\n",
       "      <td>MLPClassifier()</td>\n",
       "      <td>{'hidden_layer_sizes': [1, 2], 'activation': [...</td>\n",
       "      <td>mlp</td>\n",
       "    </tr>\n",
       "    <tr>\n",
       "      <th>6</th>\n",
       "      <td>KNN</td>\n",
       "      <td>KNeighborsClassifier()</td>\n",
       "      <td>{'n_neighbors': [1, 5, 10], 'weights': ['unifo...</td>\n",
       "      <td>knn</td>\n",
       "    </tr>\n",
       "    <tr>\n",
       "      <th>7</th>\n",
       "      <td>NGB</td>\n",
       "      <td>GaussianNB()</td>\n",
       "      <td>{'var_smoothing': [1e-05, 1e-09, 0.1]}</td>\n",
       "      <td>ngb</td>\n",
       "    </tr>\n",
       "    <tr>\n",
       "      <th>8</th>\n",
       "      <td>ADA</td>\n",
       "      <td>AdaBoostClassifier()</td>\n",
       "      <td>{'n_estimators': [50, 100, 300, 500], 'max_dep...</td>\n",
       "      <td>ada</td>\n",
       "    </tr>\n",
       "  </tbody>\n",
       "</table>\n",
       "</div>"
      ],
      "text/plain": [
       "   model_name                      model_instance  \\\n",
       "0     cox_str             <lifelines.CoxPHFitter>   \n",
       "1  cox_no_str             <lifelines.CoxPHFitter>   \n",
       "2          LR  LogisticRegression(max_iter=10000)   \n",
       "3          RF            RandomForestClassifier()   \n",
       "4          GB        GradientBoostingClassifier()   \n",
       "5         MLP                     MLPClassifier()   \n",
       "6         KNN              KNeighborsClassifier()   \n",
       "7         NGB                        GaussianNB()   \n",
       "8         ADA                AdaBoostClassifier()   \n",
       "\n",
       "                                         hyperparams        type  \n",
       "0  {'penalizer': [0.006737946999085467, 0.0301973...     cox_str  \n",
       "1  {'penalizer': [0.006737946999085467, 0.0301973...  cox_no_str  \n",
       "2  {'C': [0.001, 0.01, 0.1, 1, 10, 100, 1000], 'p...          lr  \n",
       "3  {'n_estimators': [50, 100, 300, 500], 'max_dep...          rf  \n",
       "4  {'n_estimators': [50, 100, 300, 500], 'max_dep...          gb  \n",
       "5  {'hidden_layer_sizes': [1, 2], 'activation': [...         mlp  \n",
       "6  {'n_neighbors': [1, 5, 10], 'weights': ['unifo...         knn  \n",
       "7             {'var_smoothing': [1e-05, 1e-09, 0.1]}         ngb  \n",
       "8  {'n_estimators': [50, 100, 300, 500], 'max_dep...         ada  "
      ]
     },
     "execution_count": 3,
     "metadata": {},
     "output_type": "execute_result"
    }
   ],
   "source": [
    "## model specifics of level 0 models\n",
    "cox_params = {'penalizer':np.exp(np.linspace(-5,1,5)),'l1_ratio':[0,0.25,0.5,0.75,1]}\n",
    "# 5*5 *2 = 50\n",
    "model_specifics_cont = pd.DataFrame({'model_name' : ['cox_str', 'cox_no_str'], \n",
    "                                'model_instance':[CoxPHFitter(),CoxPHFitter()], \n",
    "                                'hyperparams':[cox_params,cox_params], \n",
    "                                'type':['cox_str','cox_no_str']})\n",
    "\n",
    "LR_params = {\n",
    "    'C': [0.001, 0.01, 0.1, 1, 10, 100, 1000],\n",
    "    'penalty': ['l1', 'l2'],\n",
    "    'solver': ['saga']\n",
    "} # 7 * 2 * 1 = 14\n",
    "RF_params = {'n_estimators':[50,100,300,500],'max_depth':[1,3,5]} # 4*3 = 12\n",
    "GB_params = {'n_estimators':[50,100,300,500],'max_depth':[1,3,5]} # 4*3 = 12\n",
    "MLP_params = {'hidden_layer_sizes':[1,2], 'activation' : ['logistic', 'relu'], 'max_iter' : [1000], 'early_stopping' : [True], 'learning_rate' : ['adaptive']}\n",
    "# 2*2 = 4\n",
    "KNN_params = {'n_neighbors':[1,5,10], 'weights':['uniform', 'distance']} \n",
    "# 3*2\n",
    "NGB_params = {'var_smoothing':[1e-5, 1e-9, 1e-1]}\n",
    "# 3\n",
    "ADA_params = {'n_estimators':[50, 100, 300, 500], 'max_depth':[1,3,5]}\n",
    "# 4*3 = 12\n",
    "\n",
    "model_specifics_disc = pd.DataFrame({'model_name' : ['LR','RF','GB','MLP','KNN','NGB','ADA'], \n",
    "                                'model_instance':[LogisticRegression(max_iter=10000),RandomForestClassifier(),GradientBoostingClassifier(),MLPClassifier(),KNeighborsClassifier(),GaussianNB(), AdaBoostClassifier()], \n",
    "                                'hyperparams':[LR_params, RF_params, GB_params,MLP_params, KNN_params,NGB_params, ADA_params], \n",
    "                                'type':['lr','rf','gb','mlp','knn','ngb','ada']})\n",
    "\n",
    "\n",
    "model_specifics = pd.concat([model_specifics_cont,model_specifics_disc],axis=0).reset_index(drop=True)\n",
    "model_specifics"
   ]
  },
  {
   "cell_type": "code",
   "execution_count": 4,
   "id": "2fac7476-d8c6-475e-a3a6-ba82d1e4e5e5",
   "metadata": {},
   "outputs": [],
   "source": [
    "data_lm_cont = landmarker_cont(data=data, ID_col = ID_col, T_col = T_col, E_col = E_col, \n",
    "                window = window, S= S, measure_T_col = measure_T_col)\n",
    "\n",
    "data_lm_disc = landmarker_disc(data=data_lm_cont,ID_col = ID_col, T_col = T_col, E_col = E_col, \n",
    "                window = window, S= S, measure_T_col = measure_T_col, k_bin = k_bin, train=True)"
   ]
  },
  {
   "cell_type": "code",
   "execution_count": 5,
   "id": "efc76ca0-98d0-407e-af72-b36fe4a486d3",
   "metadata": {},
   "outputs": [],
   "source": [
    "dir_save = '/Users/pio/Google 드라이브/github/survival ensemble/experiment/'\n",
    "n_rep = 50"
   ]
  },
  {
   "cell_type": "code",
   "execution_count": 7,
   "id": "5f3d3486-4611-4c3f-8edf-003018d79f33",
   "metadata": {},
   "outputs": [],
   "source": [
    "seed_list = list(range(50))\n",
    "seed_list.remove(8) ; seed_list.remove(12); seed_list.remove(27)"
   ]
  },
  {
   "cell_type": "code",
   "execution_count": 11,
   "id": "a78215e0-4bd1-42f7-a26f-c442b7124606",
   "metadata": {
    "tags": []
   },
   "outputs": [],
   "source": [
    "brier_df_list = []; c_index_df_list = []; \n",
    "for seed_num in seed_list : \n",
    "    with open(dir_save +'seed_'+str(seed_num)+'_'+'brier_score.pkl', 'rb') as f : \n",
    "        brier_score = dill.load(f)\n",
    "\n",
    "    with open(dir_save +'seed_'+str(seed_num)+'_'+'c_index_score.pkl', 'rb') as f : \n",
    "        c_index_score = dill.load(f)\n",
    "                \n",
    "\n",
    "    best_cox_idx = np.where(brier_score[list(range(50))].mean(axis=0) == brier_score[list(range(50))].mean(axis=0).min())[0][0]\n",
    "    \n",
    "    brier_df_list.append(pd.DataFrame({'model':'Cox','time':S ,'score': brier_score[best_cox_idx ]}))\n",
    "    c_index_df_list.append(pd.DataFrame({'model':'Cox','time':S ,'score': c_index_score[best_cox_idx ]}))\n",
    "        \n",
    "    brier_df_list.append(pd.DataFrame({'model':'nnls','time':S ,'score': brier_score['nnls']}))\n",
    "    c_index_df_list.append(pd.DataFrame({'model':'nnls','time':S ,'score': c_index_score['nnls']}))\n",
    "\n",
    "    \n",
    "    brier_df_list.append(pd.DataFrame({'model':'hill','time':S ,'score': brier_score['hill']}))\n",
    "    c_index_df_list.append(pd.DataFrame({'model':'hill','time':S ,'score': c_index_score['hill']}))\n",
    "\n",
    "\n",
    "    brier_df_list.append(pd.DataFrame({'model':'rf','time':S ,'score': brier_score['rf']}))\n",
    "    c_index_df_list.append(pd.DataFrame({'model':'rf','time':S ,'score': c_index_score['rf']}))\n",
    "\n",
    "    \n",
    "    "
   ]
  },
  {
   "cell_type": "code",
   "execution_count": 13,
   "id": "756f32eb-986b-4fce-99c3-1d69e7da573e",
   "metadata": {},
   "outputs": [],
   "source": [
    "brier_score_all_seed = pd.concat(brier_df_list,axis=0,ignore_index=True)\n",
    "c_index_score_all_seed = pd.concat(c_index_df_list,axis=0,ignore_index=True)"
   ]
  },
  {
   "cell_type": "code",
   "execution_count": 14,
   "id": "ec731217-c1fd-4174-97d6-bb527c735d34",
   "metadata": {},
   "outputs": [],
   "source": [
    "import seaborn as sns\n",
    "import matplotlib.pyplot as plt"
   ]
  },
  {
   "cell_type": "markdown",
   "id": "e4613e76-3964-4c2a-9524-56c1fd059259",
   "metadata": {},
   "source": [
    "# brier mean 비교"
   ]
  },
  {
   "cell_type": "code",
   "execution_count": 15,
   "id": "a728921c-7b2c-45cf-8b51-26b78ee89a51",
   "metadata": {},
   "outputs": [
    {
     "name": "stdout",
     "output_type": "stream",
     "text": [
      "0.14535286210510323\n",
      "0.06289043286244478\n"
     ]
    }
   ],
   "source": [
    "print(brier_score_all_seed[brier_score_all_seed['model'] == 'Cox'].score.mean())\n",
    "print(brier_score_all_seed[brier_score_all_seed['model'] == 'Cox'].score.std())"
   ]
  },
  {
   "cell_type": "code",
   "execution_count": 16,
   "id": "e9df975c-04e1-494a-a996-30f7928f624c",
   "metadata": {},
   "outputs": [
    {
     "name": "stdout",
     "output_type": "stream",
     "text": [
      "0.1594253036283166\n",
      "0.05035974867521901\n"
     ]
    }
   ],
   "source": [
    "print(brier_score_all_seed[brier_score_all_seed['model'] == 'nnls'].score.mean())\n",
    "print(brier_score_all_seed[brier_score_all_seed['model'] == 'nnls'].score.std())"
   ]
  },
  {
   "cell_type": "code",
   "execution_count": 17,
   "id": "c78f3fe3-1d9d-492a-88c6-d1f606a4384b",
   "metadata": {},
   "outputs": [
    {
     "name": "stdout",
     "output_type": "stream",
     "text": [
      "0.14646359233855652\n",
      "0.06824151344435812\n"
     ]
    }
   ],
   "source": [
    "print(brier_score_all_seed[brier_score_all_seed['model'] == 'hill'].score.mean())\n",
    "print(brier_score_all_seed[brier_score_all_seed['model'] == 'hill'].score.std())"
   ]
  },
  {
   "cell_type": "code",
   "execution_count": 18,
   "id": "3f6edd8e-86eb-49d7-b281-9abba7f59773",
   "metadata": {},
   "outputs": [
    {
     "name": "stdout",
     "output_type": "stream",
     "text": [
      "0.1588156827578714\n",
      "0.08781056755185829\n"
     ]
    }
   ],
   "source": [
    "print(brier_score_all_seed[brier_score_all_seed['model'] == 'rf'].score.mean())\n",
    "print(brier_score_all_seed[brier_score_all_seed['model'] == 'rf'].score.std())"
   ]
  },
  {
   "cell_type": "markdown",
   "id": "5dfc1954-07dc-4a34-9634-5b4b2075f7ea",
   "metadata": {},
   "source": [
    "---"
   ]
  },
  {
   "cell_type": "markdown",
   "id": "6a8737f4-53fd-40dd-995f-9bb7b5ec202b",
   "metadata": {},
   "source": [
    "# c-index mean 비교"
   ]
  },
  {
   "cell_type": "code",
   "execution_count": 25,
   "id": "9caa0db3-774a-444b-a29d-fa22667c717b",
   "metadata": {},
   "outputs": [
    {
     "name": "stdout",
     "output_type": "stream",
     "text": [
      "0.8195758850132384\n",
      "0.08032322695064935\n"
     ]
    }
   ],
   "source": [
    "print(c_index_score_all_seed[c_index_score_all_seed['model'] == 'Cox'].score.mean())\n",
    "print(c_index_score_all_seed[c_index_score_all_seed['model'] == 'Cox'].score.std())"
   ]
  },
  {
   "cell_type": "code",
   "execution_count": 26,
   "id": "ba517e40-f0fe-4fae-94bd-1b2bb1fad7f7",
   "metadata": {},
   "outputs": [
    {
     "name": "stdout",
     "output_type": "stream",
     "text": [
      "0.8264834216040831\n",
      "0.07595158539339293\n"
     ]
    }
   ],
   "source": [
    "print(c_index_score_all_seed[c_index_score_all_seed['model'] == 'nnls'].score.mean())\n",
    "print(c_index_score_all_seed[c_index_score_all_seed['model'] == 'nnls'].score.std())"
   ]
  },
  {
   "cell_type": "code",
   "execution_count": 27,
   "id": "7669e522-945f-4f7f-a39c-ed28f47c7ce0",
   "metadata": {},
   "outputs": [
    {
     "name": "stdout",
     "output_type": "stream",
     "text": [
      "0.829336569077785\n",
      "0.07555861406953664\n"
     ]
    }
   ],
   "source": [
    "print(c_index_score_all_seed[c_index_score_all_seed['model'] == 'hill'].score.mean())\n",
    "print(c_index_score_all_seed[c_index_score_all_seed['model'] == 'hill'].score.std())"
   ]
  },
  {
   "cell_type": "code",
   "execution_count": 28,
   "id": "e6b0968f-17c3-4a2a-97dd-7c918871099d",
   "metadata": {},
   "outputs": [
    {
     "name": "stdout",
     "output_type": "stream",
     "text": [
      "0.8105873441489421\n",
      "0.07789269903654167\n"
     ]
    }
   ],
   "source": [
    "print(c_index_score_all_seed[c_index_score_all_seed['model'] == 'rf'].score.mean())\n",
    "print(c_index_score_all_seed[c_index_score_all_seed['model'] == 'rf'].score.std())"
   ]
  },
  {
   "cell_type": "code",
   "execution_count": 29,
   "id": "d61f62da-38eb-46ae-a12a-bb241651a6b0",
   "metadata": {},
   "outputs": [
    {
     "data": {
      "text/plain": [
       "<AxesSubplot:xlabel='time', ylabel='score'>"
      ]
     },
     "execution_count": 29,
     "metadata": {},
     "output_type": "execute_result"
    },
    {
     "data": {
      "image/png": "[encoded data removed]",
      "text/plain": [
       "<Figure size 1440x864 with 1 Axes>"
      ]
     },
     "metadata": {
      "needs_background": "light"
     },
     "output_type": "display_data"
    }
   ],
   "source": [
    "plt.figure(figsize=(20, 12))\n",
    "sns.boxplot(data= brier_score_all_seed, x = 'time', y='score', hue = 'model')"
   ]
  },
  {
   "cell_type": "code",
   "execution_count": 30,
   "id": "78345829-6b84-40bf-81d0-fac4622861c9",
   "metadata": {},
   "outputs": [
    {
     "data": {
      "text/plain": [
       "<AxesSubplot:xlabel='time', ylabel='score'>"
      ]
     },
     "execution_count": 30,
     "metadata": {},
     "output_type": "execute_result"
    },
    {
     "data": {
      "image/png": "[encoded data removed]",
      "text/plain": [
       "<Figure size 1440x864 with 1 Axes>"
      ]
     },
     "metadata": {
      "needs_background": "light"
     },
     "output_type": "display_data"
    }
   ],
   "source": [
    "plt.figure(figsize=(20, 12))\n",
    "sns.boxplot(data= c_index_score_all_seed, x = 'time', y='score', hue = 'model')"
   ]
  },
  {
   "cell_type": "code",
   "execution_count": null,
   "id": "2ad1a92e-8bde-456b-b033-f48e6059a26a",
   "metadata": {},
   "outputs": [],
   "source": []
  },
  {
   "cell_type": "code",
   "execution_count": null,
   "id": "a5d4c451-19f3-45d1-918f-a174ab7dfe28",
   "metadata": {},
   "outputs": [],
   "source": []
  },
  {
   "cell_type": "markdown",
   "id": "c9bbd589-30fa-4340-9de8-f412217118c7",
   "metadata": {},
   "source": [
    "---"
   ]
  },
  {
   "cell_type": "code",
   "execution_count": null,
   "id": "68748640-4713-4074-8c93-677a4a1317f4",
   "metadata": {},
   "outputs": [],
   "source": []
  },
  {
   "cell_type": "code",
   "execution_count": null,
   "id": "21dfcfea-06f2-41f5-910c-2fda9af66c3c",
   "metadata": {},
   "outputs": [],
   "source": []
  },
  {
   "cell_type": "code",
   "execution_count": null,
   "id": "b7c28294-a4dd-4860-8c6c-9ffc06bece38",
   "metadata": {},
   "outputs": [],
   "source": []
  },
  {
   "cell_type": "code",
   "execution_count": null,
   "id": "6dc59384-b721-48f9-90c2-dd97fe21b997",
   "metadata": {},
   "outputs": [],
   "source": []
  },
  {
   "cell_type": "code",
   "execution_count": 104,
   "id": "43f77767-8c7c-4472-be1a-1253bcf5d8d9",
   "metadata": {},
   "outputs": [
    {
     "data": {
      "text/plain": [
       "28"
      ]
     },
     "execution_count": 104,
     "metadata": {},
     "output_type": "execute_result"
    }
   ],
   "source": [
    "seed_num = 0\n",
    "with open(dir_save +'seed_'+str(seed_num)+'_'+'brier_score.pkl', 'rb') as f : \n",
    "    brier_score = dill.load(f)\n",
    "\n",
    "with open(dir_save +'seed_'+str(seed_num)+'_'+'c_index_score.pkl', 'rb') as f : \n",
    "    c_index_score = dill.load(f)\n",
    "\n",
    "c_index_max_idx_seed_0 = np.where(c_index_score[list(range(50))].mean(axis=0) == c_index_score[list(range(50))].mean(axis=0).max())[0][0]\n",
    "\n",
    "c_index_max_idx_seed_0"
   ]
  },
  {
   "cell_type": "code",
   "execution_count": 106,
   "id": "d7983d5f-487e-4401-b05c-9be0c937cdf2",
   "metadata": {},
   "outputs": [],
   "source": [
    "brier_df_list = []; c_index_df_list = []; \n",
    "for seed_num in seed_list : \n",
    "    with open(dir_save +'seed_'+str(seed_num)+'_'+'brier_score.pkl', 'rb') as f : \n",
    "        brier_score = dill.load(f)\n",
    "\n",
    "    with open(dir_save +'seed_'+str(seed_num)+'_'+'c_index_score.pkl', 'rb') as f : \n",
    "        c_index_score = dill.load(f)\n",
    "\n",
    "#    c_index_max_idx = np.where(c_index_score[list(range(50))].mean(axis=0) == c_index_score[list(range(50))].mean(axis=0).max())[0][0]\n",
    "    c_index_max_idx = c_index_max_idx_seed_0\n",
    "    \n",
    "    brier_df_list.append(pd.DataFrame({'model':'Cox','time':S ,'score': brier_score[c_index_max_idx]}))\n",
    "    c_index_df_list.append(pd.DataFrame({'model':'Cox','time':S ,'score': c_index_score[c_index_max_idx]}))\n",
    "        \n",
    "    brier_df_list.append(pd.DataFrame({'model':'nnls','time':S ,'score': brier_score['nnls']}))\n",
    "    c_index_df_list.append(pd.DataFrame({'model':'nnls','time':S ,'score': c_index_score['nnls']}))\n",
    "\n",
    "    \n",
    "    brier_df_list.append(pd.DataFrame({'model':'hill','time':S ,'score': brier_score['hill']}))\n",
    "    c_index_df_list.append(pd.DataFrame({'model':'hill','time':S ,'score': c_index_score['hill']}))\n",
    "\n",
    "\n",
    "    brier_df_list.append(pd.DataFrame({'model':'rf','time':S ,'score': brier_score['rf']}))\n",
    "    c_index_df_list.append(pd.DataFrame({'model':'rf','time':S ,'score': c_index_score['rf']}))\n",
    "\n",
    "    \n",
    "brier_score_all_seed = pd.concat(brier_df_list,axis=0,ignore_index=True)\n",
    "c_index_score_all_seed = pd.concat(c_index_df_list,axis=0,ignore_index=True)    "
   ]
  },
  {
   "cell_type": "code",
   "execution_count": 107,
   "id": "8d23d4e8-9e55-4c72-aa48-bf8d8c206833",
   "metadata": {},
   "outputs": [
    {
     "data": {
      "text/plain": [
       "<AxesSubplot:xlabel='time', ylabel='score'>"
      ]
     },
     "execution_count": 107,
     "metadata": {},
     "output_type": "execute_result"
    },
    {
     "data": {
      "image/png": "[encoded data removed]",
      "text/plain": [
       "<Figure size 1440x864 with 1 Axes>"
      ]
     },
     "metadata": {
      "needs_background": "light"
     },
     "output_type": "display_data"
    }
   ],
   "source": [
    "plt.figure(figsize=(20, 12))\n",
    "sns.boxplot(data= brier_score_all_seed, x = 'time', y='score', hue = 'model')"
   ]
  },
  {
   "cell_type": "code",
   "execution_count": 108,
   "id": "f5ba8591-214f-452c-a71f-ab73deeebb9c",
   "metadata": {},
   "outputs": [
    {
     "data": {
      "text/plain": [
       "<AxesSubplot:xlabel='time', ylabel='score'>"
      ]
     },
     "execution_count": 108,
     "metadata": {},
     "output_type": "execute_result"
    },
    {
     "data": {
      "image/png": "[encoded data removed]",
      "text/plain": [
       "<Figure size 1440x864 with 1 Axes>"
      ]
     },
     "metadata": {
      "needs_background": "light"
     },
     "output_type": "display_data"
    }
   ],
   "source": [
    "plt.figure(figsize=(20, 12))\n",
    "sns.boxplot(data= c_index_score_all_seed, x = 'time', y='score', hue = 'model')"
   ]
  },
  {
   "cell_type": "code",
   "execution_count": null,
   "id": "61545e51-8b52-4b4e-a849-9b88ec6a2c47",
   "metadata": {},
   "outputs": [],
   "source": []
  },
  {
   "cell_type": "markdown",
   "id": "4978cde4-bfe0-458f-af26-8ec9679bd293",
   "metadata": {},
   "source": [
    "---"
   ]
  },
  {
   "cell_type": "markdown",
   "id": "5d88a65d-7f22-4ef9-9fc7-50bdf234ace6",
   "metadata": {},
   "source": [
    "Ensemble selection"
   ]
  },
  {
   "cell_type": "code",
   "execution_count": null,
   "id": "4611f852-0997-471e-8e02-368b0d783008",
   "metadata": {},
   "outputs": [],
   "source": []
  },
  {
   "cell_type": "code",
   "execution_count": null,
   "id": "dcabb366-f427-44ff-951b-99b6e1ec0eef",
   "metadata": {},
   "outputs": [],
   "source": []
  },
  {
   "cell_type": "code",
   "execution_count": null,
   "id": "2333e802-fdc4-4bce-9504-e932cfdfebb6",
   "metadata": {},
   "outputs": [],
   "source": []
  },
  {
   "cell_type": "code",
   "execution_count": null,
   "id": "9a29522c-595d-4dd7-82bc-489dc7b338a4",
   "metadata": {},
   "outputs": [],
   "source": []
  },
  {
   "cell_type": "code",
   "execution_count": null,
   "id": "fef3acf7-1d6a-4dd3-8f04-3307431ae5f2",
   "metadata": {},
   "outputs": [],
   "source": []
  },
  {
   "cell_type": "code",
   "execution_count": null,
   "id": "04de2973-0e6a-4fe3-9d90-11fab8cdebd7",
   "metadata": {},
   "outputs": [],
   "source": []
  },
  {
   "cell_type": "code",
   "execution_count": null,
   "id": "236b3735-52c8-4ff7-a866-c3caa13fa05f",
   "metadata": {},
   "outputs": [],
   "source": []
  },
  {
   "cell_type": "code",
   "execution_count": null,
   "id": "c2b2913f-559a-42df-9a5c-a46de4748b29",
   "metadata": {},
   "outputs": [],
   "source": []
  },
  {
   "cell_type": "code",
   "execution_count": null,
   "id": "ebb25cbd-7fde-4be5-8773-f7389e214596",
   "metadata": {},
   "outputs": [],
   "source": []
  },
  {
   "cell_type": "code",
   "execution_count": null,
   "id": "9184b181-55dd-495a-9624-5c382d7cdbec",
   "metadata": {},
   "outputs": [],
   "source": []
  },
  {
   "cell_type": "code",
   "execution_count": null,
   "id": "899b4504-0bac-453f-a925-da2cfa15bc91",
   "metadata": {},
   "outputs": [],
   "source": []
  },
  {
   "cell_type": "code",
   "execution_count": null,
   "id": "7a167b8d-4779-4a5c-9325-3d6058b654ff",
   "metadata": {},
   "outputs": [],
   "source": []
  },
  {
   "cell_type": "code",
   "execution_count": null,
   "id": "4c551a4f-9bba-4530-b331-ace6d2bc7344",
   "metadata": {},
   "outputs": [],
   "source": []
  },
  {
   "cell_type": "code",
   "execution_count": null,
   "id": "96ec639b-f135-40bd-8c77-8dd06200a72d",
   "metadata": {},
   "outputs": [],
   "source": []
  }
 ],
 "metadata": {
  "kernelspec": {
   "display_name": "Python 3",
   "language": "python",
   "name": "python3"
  },
  "language_info": {
   "codemirror_mode": {
    "name": "ipython",
    "version": 3
   },
   "file_extension": ".py",
   "mimetype": "text/x-python",
   "name": "python",
   "nbconvert_exporter": "python",
   "pygments_lexer": "ipython3",
   "version": "3.6.13"
  }
 },
 "nbformat": 4,
 "nbformat_minor": 5
}
