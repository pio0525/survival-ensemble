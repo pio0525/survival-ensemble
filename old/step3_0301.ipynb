{
 "cells": [
  {
   "cell_type": "markdown",
   "id": "14fcdf60-a0ab-4ce2-98ed-e0c0749e21c4",
   "metadata": {},
   "source": [
    "# Step3 : Fitting various stacking generalization algorithms WITH bagging\n",
    "## 1. SuperLearner (proposed by Kamaryn T. Tanner et al. 2019)\n",
    "## 2. Ensemble Selection from Libraries of Models (with replacement, Rich Caruana, 2004)\n",
    "## 3. Forest.... Boosting..."
   ]
  },
  {
   "cell_type": "code",
   "execution_count": null,
   "id": "dac32f8e-acfb-4851-a531-299f5be16ba5",
   "metadata": {},
   "outputs": [],
   "source": []
  }
 ],
 "metadata": {
  "kernelspec": {
   "display_name": "Python 3",
   "language": "python",
   "name": "python3"
  },
  "language_info": {
   "codemirror_mode": {
    "name": "ipython",
    "version": 3
   },
   "file_extension": ".py",
   "mimetype": "text/x-python",
   "name": "python",
   "nbconvert_exporter": "python",
   "pygments_lexer": "ipython3",
   "version": "3.6.13"
  }
 },
 "nbformat": 4,
 "nbformat_minor": 5
}
